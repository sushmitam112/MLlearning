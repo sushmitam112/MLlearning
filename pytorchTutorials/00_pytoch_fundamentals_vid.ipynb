{
  "nbformat": 4,
  "nbformat_minor": 0,
  "metadata": {
    "colab": {
      "provenance": [],
      "gpuType": "T4"
    },
    "kernelspec": {
      "name": "python3",
      "display_name": "Python 3"
    },
    "language_info": {
      "name": "python"
    }
  },
  "cells": [
    {
      "cell_type": "code",
      "execution_count": 3,
      "metadata": {
        "colab": {
          "base_uri": "https://localhost:8080/"
        },
        "id": "xvHwCZ9vd1zP",
        "outputId": "fca2e37d-d8d0-4fae-98fe-a18f15ee4a7c"
      },
      "outputs": [
        {
          "output_type": "stream",
          "name": "stdout",
          "text": [
            "2.6.0+cu124\n"
          ]
        }
      ],
      "source": [
        "import torch\n",
        "import pandas as pd\n",
        "import numpy as np\n",
        "import matplotlib.pyplot as plt\n",
        "print(torch.__version__)"
      ]
    },
    {
      "cell_type": "code",
      "source": [
        "## Intro to tensors\n",
        "\n",
        "# scalar\n",
        "scalar = torch.tensor(7)\n",
        "scalar\n",
        "\n",
        "# use torch.Tensor() to create PyTorch tensors"
      ],
      "metadata": {
        "colab": {
          "base_uri": "https://localhost:8080/"
        },
        "id": "QtBFquaEd4UU",
        "outputId": "52140dae-97fc-4abf-e20a-5e963c78381f"
      },
      "execution_count": 4,
      "outputs": [
        {
          "output_type": "execute_result",
          "data": {
            "text/plain": [
              "tensor(7)"
            ]
          },
          "metadata": {},
          "execution_count": 4
        }
      ]
    },
    {
      "cell_type": "code",
      "source": [
        "torch.rand(3, 3)"
      ],
      "metadata": {
        "colab": {
          "base_uri": "https://localhost:8080/"
        },
        "id": "IadbS9YyefN4",
        "outputId": "b45d5401-f1e4-4d2b-ebcd-5946192eb6c0"
      },
      "execution_count": 5,
      "outputs": [
        {
          "output_type": "execute_result",
          "data": {
            "text/plain": [
              "tensor([[0.2121, 0.0056, 0.7158],\n",
              "        [0.8084, 0.2235, 0.1390],\n",
              "        [0.7162, 0.8115, 0.5103]])"
            ]
          },
          "metadata": {},
          "execution_count": 5
        }
      ]
    },
    {
      "cell_type": "code",
      "source": [
        "random_image_size_tensor = torch.rand(size=(3, 10,10))\n",
        "random_image_size_tensor.shape, random_image_size_tensor.ndim\n",
        "random_image_size_tensor"
      ],
      "metadata": {
        "colab": {
          "base_uri": "https://localhost:8080/"
        },
        "id": "VCtB0nUFhTSM",
        "outputId": "699b1e56-f992-4f3e-87d2-61aa01e13ab9"
      },
      "execution_count": 6,
      "outputs": [
        {
          "output_type": "execute_result",
          "data": {
            "text/plain": [
              "tensor([[[0.2966, 0.2588, 0.7343, 0.1360, 0.0085, 0.4469, 0.2900, 0.8036,\n",
              "          0.2326, 0.1159],\n",
              "         [0.3793, 0.1634, 0.4294, 0.9064, 0.5894, 0.1815, 0.4130, 0.5836,\n",
              "          0.4060, 0.7830],\n",
              "         [0.7661, 0.4717, 0.9354, 0.8308, 0.9331, 0.6757, 0.6451, 0.7213,\n",
              "          0.0527, 0.0134],\n",
              "         [0.3538, 0.9002, 0.4694, 0.9917, 0.2222, 0.5706, 0.4038, 0.5567,\n",
              "          0.1230, 0.9364],\n",
              "         [0.9055, 0.1581, 0.2559, 0.4012, 0.3100, 0.6573, 0.1668, 0.4560,\n",
              "          0.1966, 0.3496],\n",
              "         [0.6595, 0.1085, 0.3423, 0.8201, 0.1987, 0.2422, 0.2102, 0.7856,\n",
              "          0.3783, 0.9284],\n",
              "         [0.6262, 0.4387, 0.4073, 0.1279, 0.7879, 0.1810, 0.6586, 0.2590,\n",
              "          0.1404, 0.1274],\n",
              "         [0.3774, 0.9476, 0.7414, 0.9560, 0.9779, 0.1136, 0.8549, 0.4567,\n",
              "          0.3453, 0.7530],\n",
              "         [0.0346, 0.3015, 0.7048, 0.4440, 0.8883, 0.3563, 0.8291, 0.1002,\n",
              "          0.7664, 0.7987],\n",
              "         [0.7306, 0.2938, 0.4469, 0.7005, 0.7566, 0.2305, 0.8901, 0.8845,\n",
              "          0.0446, 0.5196]],\n",
              "\n",
              "        [[0.3686, 0.7768, 0.0053, 0.1812, 0.0505, 0.3013, 0.9929, 0.6383,\n",
              "          0.3649, 0.8232],\n",
              "         [0.9546, 0.1138, 0.6172, 0.6808, 0.2196, 0.8821, 0.0041, 0.8099,\n",
              "          0.1409, 0.6831],\n",
              "         [0.9254, 0.9622, 0.3059, 0.5708, 0.3264, 0.1230, 0.9664, 0.3077,\n",
              "          0.7309, 0.3919],\n",
              "         [0.2848, 0.5592, 0.7784, 0.2249, 0.1405, 0.9770, 0.1788, 0.0033,\n",
              "          0.2263, 0.6659],\n",
              "         [0.8345, 0.8633, 0.4615, 0.3727, 0.6089, 0.8965, 0.1789, 0.3733,\n",
              "          0.5478, 0.0405],\n",
              "         [0.1202, 0.9161, 0.7056, 0.9370, 0.4876, 0.9077, 0.8453, 0.3075,\n",
              "          0.9986, 0.0360],\n",
              "         [0.9565, 0.0867, 0.0845, 0.0243, 0.0588, 0.7902, 0.0456, 0.2815,\n",
              "          0.2669, 0.8289],\n",
              "         [0.6481, 0.1276, 0.4074, 0.3653, 0.2793, 0.0612, 0.9216, 0.0915,\n",
              "          0.3590, 0.0943],\n",
              "         [0.1509, 0.0029, 0.3525, 0.9339, 0.4634, 0.0420, 0.7228, 0.3878,\n",
              "          0.0688, 0.9622],\n",
              "         [0.8572, 0.2842, 0.9383, 0.9465, 0.3468, 0.2851, 0.0132, 0.3256,\n",
              "          0.1027, 0.4527]],\n",
              "\n",
              "        [[0.5839, 0.5765, 0.4963, 0.0997, 0.8525, 0.9050, 0.4446, 0.3533,\n",
              "          0.4566, 0.3431],\n",
              "         [0.7565, 0.3457, 0.3378, 0.7273, 0.8283, 0.3112, 0.9192, 0.8507,\n",
              "          0.0887, 0.1224],\n",
              "         [0.4988, 0.5206, 0.6715, 0.3168, 0.9411, 0.5031, 0.9289, 0.4492,\n",
              "          0.0574, 0.6518],\n",
              "         [0.6000, 0.8757, 0.5677, 0.5409, 0.2652, 0.4410, 0.7202, 0.5620,\n",
              "          0.1183, 0.3252],\n",
              "         [0.0425, 0.3227, 0.9806, 0.7847, 0.1447, 0.3203, 0.7365, 0.5157,\n",
              "          0.4037, 0.5025],\n",
              "         [0.4826, 0.4998, 0.5986, 0.6968, 0.1505, 0.8430, 0.7029, 0.3804,\n",
              "          0.7902, 0.6752],\n",
              "         [0.3514, 0.5960, 0.5394, 0.2277, 0.9928, 0.7105, 0.2753, 0.2697,\n",
              "          0.7289, 0.1951],\n",
              "         [0.4132, 0.2184, 0.0394, 0.7359, 0.7302, 0.8494, 0.5365, 0.2466,\n",
              "          0.3485, 0.3507],\n",
              "         [0.2471, 0.3697, 0.1645, 0.9905, 0.4544, 0.5231, 0.0076, 0.4358,\n",
              "          0.6220, 0.1267],\n",
              "         [0.5313, 0.0621, 0.0411, 0.3482, 0.0845, 0.6681, 0.2599, 0.4877,\n",
              "          0.9864, 0.3131]]])"
            ]
          },
          "metadata": {},
          "execution_count": 6
        }
      ]
    },
    {
      "cell_type": "code",
      "source": [
        "# create tensor of all 0s\n",
        "zeros = torch.zeros(size=(3,4))\n",
        "ones = torch.ones(size=(3,4))\n",
        "print(zeros)\n",
        "print(ones)"
      ],
      "metadata": {
        "colab": {
          "base_uri": "https://localhost:8080/"
        },
        "id": "tgoXwQuNhmsG",
        "outputId": "6f008b82-a6ab-4e05-945c-b3feb053bb8a"
      },
      "execution_count": 7,
      "outputs": [
        {
          "output_type": "stream",
          "name": "stdout",
          "text": [
            "tensor([[0., 0., 0., 0.],\n",
            "        [0., 0., 0., 0.],\n",
            "        [0., 0., 0., 0.]])\n",
            "tensor([[1., 1., 1., 1.],\n",
            "        [1., 1., 1., 1.],\n",
            "        [1., 1., 1., 1.]])\n"
          ]
        }
      ]
    },
    {
      "cell_type": "code",
      "source": [
        "random_image_size_tensor.dtype"
      ],
      "metadata": {
        "colab": {
          "base_uri": "https://localhost:8080/"
        },
        "id": "uyseKNtqh0Mb",
        "outputId": "62888f64-a5cd-4dd7-976d-f2e4c6407490"
      },
      "execution_count": 8,
      "outputs": [
        {
          "output_type": "execute_result",
          "data": {
            "text/plain": [
              "torch.float32"
            ]
          },
          "metadata": {},
          "execution_count": 8
        }
      ]
    },
    {
      "cell_type": "code",
      "source": [
        "# creating a tensor with a range\n",
        "woow = torch.arange(1,11)\n",
        "\n",
        "torch.arange(start = 0, end = 38, step = 2)"
      ],
      "metadata": {
        "colab": {
          "base_uri": "https://localhost:8080/"
        },
        "id": "oJgwuAikhzu-",
        "outputId": "52de42e2-5d25-4935-b6d3-f305daefe303"
      },
      "execution_count": 9,
      "outputs": [
        {
          "output_type": "execute_result",
          "data": {
            "text/plain": [
              "tensor([ 0,  2,  4,  6,  8, 10, 12, 14, 16, 18, 20, 22, 24, 26, 28, 30, 32, 34,\n",
              "        36])"
            ]
          },
          "metadata": {},
          "execution_count": 9
        }
      ]
    },
    {
      "cell_type": "code",
      "source": [
        " ten_zeros = torch.zeros_like(input = woow)\n",
        " ten_zeros"
      ],
      "metadata": {
        "colab": {
          "base_uri": "https://localhost:8080/"
        },
        "id": "_0CCM1yribp1",
        "outputId": "698d0f22-459c-4477-9546-08caa6b7f9a8"
      },
      "execution_count": 10,
      "outputs": [
        {
          "output_type": "execute_result",
          "data": {
            "text/plain": [
              "tensor([0, 0, 0, 0, 0, 0, 0, 0, 0, 0])"
            ]
          },
          "metadata": {},
          "execution_count": 10
        }
      ]
    },
    {
      "cell_type": "markdown",
      "source": [
        "#Tensor datatypes"
      ],
      "metadata": {
        "id": "KpFFkDdEjIw-"
      }
    },
    {
      "cell_type": "code",
      "source": [
        "float_32_tensor = torch.tensor([3.0, 6.0, 9.0], dtype = torch.float32, device=None, requires_grad=False)\n",
        "float_32_tensor"
      ],
      "metadata": {
        "colab": {
          "base_uri": "https://localhost:8080/"
        },
        "id": "b9hDuQSFjNDd",
        "outputId": "f1fb1cd7-94d7-48e0-9f00-3fa362ad80a3"
      },
      "execution_count": 11,
      "outputs": [
        {
          "output_type": "execute_result",
          "data": {
            "text/plain": [
              "tensor([3., 6., 9.])"
            ]
          },
          "metadata": {},
          "execution_count": 11
        }
      ]
    },
    {
      "cell_type": "code",
      "source": [
        "float_16_tensor = float_32_tensor.type(torch.float16)\n",
        "float_16_tensor"
      ],
      "metadata": {
        "colab": {
          "base_uri": "https://localhost:8080/"
        },
        "id": "e5QgjYk2kSlB",
        "outputId": "0430742c-5f15-42ac-e0bc-7fea0f735544"
      },
      "execution_count": 14,
      "outputs": [
        {
          "output_type": "execute_result",
          "data": {
            "text/plain": [
              "tensor([3., 6., 9.], dtype=torch.float16)"
            ]
          },
          "metadata": {},
          "execution_count": 14
        }
      ]
    },
    {
      "cell_type": "code",
      "source": [
        "mult = float_16_tensor * float_32_tensor\n",
        "print(mult.dtype)\n",
        "# changes it to a float_32"
      ],
      "metadata": {
        "colab": {
          "base_uri": "https://localhost:8080/"
        },
        "id": "c3tcd-U9LJxY",
        "outputId": "101aa7b4-bef0-4e28-f3f0-f5bcd5bf25d3"
      },
      "execution_count": 19,
      "outputs": [
        {
          "output_type": "stream",
          "name": "stdout",
          "text": [
            "torch.float32\n"
          ]
        }
      ]
    }
  ]
}